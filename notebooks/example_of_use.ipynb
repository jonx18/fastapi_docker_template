{
 "cells": [
  {
   "cell_type": "markdown",
   "metadata": {},
   "source": [
    "# Example of use"
   ]
  },
  {
   "cell_type": "markdown",
   "metadata": {},
   "source": [
    "It could be deployed in a Docker container or run locally.\n",
    "\n",
    "Run locally:\n",
    "\n",
    "* Go to the folder api_docker and run the command:\n",
    "    * `uvicorn app:app --reload`\n",
    "* Open the browser and go to http://127.0.0.1:8000/docs that provides a complete dashboard for interacting with our API.\n",
    "\n",
    "Run in a Docker container:\n",
    "* Go to the folder api_docker and run the command:\n",
    "    * `docker build -t fastapiapp:latest -f docker/Dockerfile .`\n",
    "    * `docker run -p 8000:8000 fastapiapp:latest`\n",
    "* Open the browser and go to http://localhost/docs that provides a complete dashboard for interacting with our API.\n"
   ]
  }
 ],
 "metadata": {
  "interpreter": {
   "hash": "cab2601455f7ef1fd0aeee6d599a2e3cdf06ccd00b341f0258cc14d111895d46"
  },
  "kernelspec": {
   "display_name": "Python 3.8.12 ('develop_pytorch')",
   "language": "python",
   "name": "python3"
  },
  "language_info": {
   "codemirror_mode": {
    "name": "ipython",
    "version": 3
   },
   "file_extension": ".py",
   "mimetype": "text/x-python",
   "name": "python",
   "nbconvert_exporter": "python",
   "pygments_lexer": "ipython3",
   "version": "3.8.12"
  },
  "orig_nbformat": 4
 },
 "nbformat": 4,
 "nbformat_minor": 2
}
